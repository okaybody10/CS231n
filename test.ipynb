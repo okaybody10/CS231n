{
 "cells": [
  {
   "cell_type": "code",
   "execution_count": 6,
   "metadata": {},
   "outputs": [],
   "source": [
    "import numpy as np"
   ]
  },
  {
   "cell_type": "code",
   "execution_count": 7,
   "metadata": {},
   "outputs": [],
   "source": [
    "a = np.random.randint(10, size = (5, 3, 3, 3))\n",
    "b = np.random.randint(5, size = (27, 27))\n",
    "c = np.random.randint(5, size = (27, ))"
   ]
  },
  {
   "cell_type": "code",
   "execution_count": 8,
   "metadata": {},
   "outputs": [
    {
     "name": "stdout",
     "output_type": "stream",
     "text": [
      "(27,)\n"
     ]
    }
   ],
   "source": [
    "minibatch = a.shape[0]\n",
    "k = a.reshape(minibatch, -1)\n",
    "d = k@b\n",
    "print(c.shape)"
   ]
  },
  {
   "cell_type": "code",
   "execution_count": 9,
   "metadata": {},
   "outputs": [
    {
     "name": "stdout",
     "output_type": "stream",
     "text": [
      "(5, 27)\n",
      "(5, 3, 3, 3)\n",
      "(5, 3, 3, 3)\n"
     ]
    }
   ],
   "source": [
    "kk = d+c\n",
    "print(kk.shape)\n",
    "kk = kk.reshape(a.shape)\n",
    "print(kk.shape)\n",
    "print((a*kk).shape)"
   ]
  },
  {
   "cell_type": "code",
   "execution_count": 10,
   "metadata": {},
   "outputs": [],
   "source": [
    "me = np.mean(k, axis = 0)\n",
    "va = np.var(k, axis = 0).reshape(1, -1)\n",
    "t = np.random.randint(5, size = (27, ))"
   ]
  },
  {
   "cell_type": "code",
   "execution_count": 11,
   "metadata": {},
   "outputs": [
    {
     "name": "stdout",
     "output_type": "stream",
     "text": [
      "(27,)\n"
     ]
    }
   ],
   "source": [
    "print(me.shape)"
   ]
  },
  {
   "cell_type": "code",
   "execution_count": 12,
   "metadata": {},
   "outputs": [],
   "source": [
    "N = 3\n",
    "D = 20"
   ]
  },
  {
   "cell_type": "code",
   "execution_count": 53,
   "metadata": {},
   "outputs": [
    {
     "name": "stdout",
     "output_type": "stream",
     "text": [
      "[[0 1 1 0 2 1 0 0 2 2 1 2 2 2 0 2 2 0 2 2]\n",
      " [2 0 2 1 0 1 0 2 2 1 2 2 0 2 0 0 0 2 0 1]\n",
      " [1 0 1 2 2 1 0 0 1 0 1 1 0 0 0 2 2 2 2 0]] [[0 0 2]\n",
      " [2 0 0]\n",
      " [3 1 3]\n",
      " [2 0 1]\n",
      " [1 4 0]\n",
      " [1 3 3]\n",
      " [0 1 3]\n",
      " [4 1 0]\n",
      " [3 2 3]\n",
      " [2 1 4]\n",
      " [1 2 3]\n",
      " [4 1 1]\n",
      " [0 0 2]\n",
      " [0 3 4]\n",
      " [4 1 2]\n",
      " [1 1 0]\n",
      " [4 3 2]\n",
      " [1 4 0]\n",
      " [2 0 3]\n",
      " [3 2 3]]\n"
     ]
    }
   ],
   "source": [
    "xx = np.random.randint(5, size = (N, D, D+4, D+5))\n",
    "yy = np.random.randint(N, size = (N, D))\n",
    "zz = np.random.randint(5, size = (D, N))\n",
    "print(yy, zz)"
   ]
  },
  {
   "cell_type": "code",
   "execution_count": 14,
   "metadata": {},
   "outputs": [
    {
     "data": {
      "text/plain": [
       "(20,)"
      ]
     },
     "execution_count": 14,
     "metadata": {},
     "output_type": "execute_result"
    }
   ],
   "source": [
    "np.sum(xx, axis = 0).shape"
   ]
  },
  {
   "cell_type": "code",
   "execution_count": 15,
   "metadata": {},
   "outputs": [
    {
     "name": "stdout",
     "output_type": "stream",
     "text": [
      "[[[0 1 1 2 1]\n",
      "  [1 2 2 1 1]\n",
      "  [1 0 2 1 2]\n",
      "  [1 1 2 1 1]]\n",
      "\n",
      " [[1 2 1 2 0]\n",
      "  [1 0 0 2 2]\n",
      "  [1 1 2 1 2]\n",
      "  [2 2 1 2 0]]\n",
      "\n",
      " [[1 2 1 1 2]\n",
      "  [1 0 1 1 2]\n",
      "  [2 1 2 0 2]\n",
      "  [2 1 1 0 2]]\n",
      "\n",
      " [[0 0 2 2 2]\n",
      "  [1 2 2 0 1]\n",
      "  [2 0 2 0 1]\n",
      "  [0 1 2 2 1]]\n",
      "\n",
      " [[2 0 1 0 2]\n",
      "  [0 1 0 2 0]\n",
      "  [1 1 0 2 2]\n",
      "  [2 2 1 2 2]]]\n"
     ]
    }
   ],
   "source": [
    "idx = np.array_split(np.arange(D), 5)\n",
    "vv = []\n",
    "vv = yy[idx]\n",
    "print(vv)"
   ]
  },
  {
   "cell_type": "code",
   "execution_count": null,
   "metadata": {},
   "outputs": [],
   "source": [
    "tt = np.zeros((2, 3))\n",
    "tt[0 : ] = np.sum(np.square(yy - xx), axis = 1)\n",
    "print(tt[0])"
   ]
  },
  {
   "cell_type": "code",
   "execution_count": null,
   "metadata": {},
   "outputs": [],
   "source": [
    "np.argsort(tt[0])"
   ]
  },
  {
   "cell_type": "code",
   "execution_count": null,
   "metadata": {},
   "outputs": [],
   "source": [
    "tv = np.random.randint(3, size = 10)\n",
    "tv = np.append(tv, 4)"
   ]
  },
  {
   "cell_type": "code",
   "execution_count": null,
   "metadata": {},
   "outputs": [],
   "source": [
    "tv[10 :]"
   ]
  },
  {
   "cell_type": "code",
   "execution_count": null,
   "metadata": {},
   "outputs": [],
   "source": [
    "values, count = np.unique(tv, return_counts=True)"
   ]
  },
  {
   "cell_type": "code",
   "execution_count": null,
   "metadata": {},
   "outputs": [],
   "source": [
    "print(2 * 4 ** 2)"
   ]
  },
  {
   "cell_type": "code",
   "execution_count": null,
   "metadata": {},
   "outputs": [],
   "source": [
    "a = {1:2, 3:4}\n",
    "print(len(a))"
   ]
  },
  {
   "cell_type": "code",
   "execution_count": 56,
   "metadata": {},
   "outputs": [
    {
     "data": {
      "text/plain": [
       "(20, 3)"
      ]
     },
     "execution_count": 56,
     "metadata": {},
     "output_type": "execute_result"
    }
   ],
   "source": [
    "yy.reshape(zz.shape).shape"
   ]
  },
  {
   "cell_type": "code",
   "execution_count": 3,
   "metadata": {},
   "outputs": [
    {
     "name": "stdout",
     "output_type": "stream",
     "text": [
      "tensor([  2,   4,   8,  16,  32,  64, 128])\n"
     ]
    }
   ],
   "source": [
    "import torch\n",
    "a = torch.arange(1, 8)\n",
    "print(2**a)"
   ]
  }
 ],
 "metadata": {
  "kernelspec": {
   "display_name": "cs231n",
   "language": "python",
   "name": "python3"
  },
  "language_info": {
   "codemirror_mode": {
    "name": "ipython",
    "version": 3
   },
   "file_extension": ".py",
   "mimetype": "text/x-python",
   "name": "python",
   "nbconvert_exporter": "python",
   "pygments_lexer": "ipython3",
   "version": "3.8.15"
  },
  "orig_nbformat": 4,
  "vscode": {
   "interpreter": {
    "hash": "40721ad8dc72da94d94f19c893f120dc06a3741008eca095c62b6b0b1bdb16c9"
   }
  }
 },
 "nbformat": 4,
 "nbformat_minor": 2
}
